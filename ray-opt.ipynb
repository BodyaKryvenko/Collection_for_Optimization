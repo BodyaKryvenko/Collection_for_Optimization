{
 "cells": [
  {
   "cell_type": "code",
   "execution_count": 1,
   "metadata": {},
   "outputs": [],
   "source": [
    "from sklearn.model_selection import train_test_split\n",
    "from sklearn.neural_network import MLPClassifier\n",
    "from ray.tune.search.optuna import OptunaSearch\n",
    "from ray import tune, train\n",
    "import ray\n",
    "from Opening_Dataset import X, y"
   ]
  },
  {
   "cell_type": "code",
   "execution_count": 2,
   "metadata": {},
   "outputs": [
    {
     "name": "stderr",
     "output_type": "stream",
     "text": [
      "2024-01-18 16:39:13,991\tINFO worker.py:1724 -- Started a local Ray instance.\n"
     ]
    },
    {
     "data": {
      "application/vnd.jupyter.widget-view+json": {
       "model_id": "fe985c5fe37d423883b22b70da1d4689",
       "version_major": 2,
       "version_minor": 0
      },
      "text/html": [
       "<div class=\"lm-Widget p-Widget lm-Panel p-Panel jp-Cell-outputWrapper\">\n",
       "    <div style=\"margin-left: 50px;display: flex;flex-direction: row;align-items: center\">\n",
       "        <div class=\"jp-RenderedHTMLCommon\" style=\"display: flex; flex-direction: row;\">\n",
       "  <svg viewBox=\"0 0 567 224\" fill=\"none\" xmlns=\"http://www.w3.org/2000/svg\" style=\"height: 3em;\">\n",
       "    <g clip-path=\"url(#clip0_4338_178347)\">\n",
       "        <path d=\"M341.29 165.561H355.29L330.13 129.051C345.63 123.991 354.21 112.051 354.21 94.2307C354.21 71.3707 338.72 58.1807 311.88 58.1807H271V165.561H283.27V131.661H311.8C314.25 131.661 316.71 131.501 319.01 131.351L341.25 165.561H341.29ZM283.29 119.851V70.0007H311.82C331.3 70.0007 342.34 78.2907 342.34 94.5507C342.34 111.271 331.34 119.861 311.82 119.861L283.29 119.851ZM451.4 138.411L463.4 165.561H476.74L428.74 58.1807H416L367.83 165.561H380.83L392.83 138.411H451.4ZM446.19 126.601H398L422 72.1407L446.24 126.601H446.19ZM526.11 128.741L566.91 58.1807H554.35L519.99 114.181L485.17 58.1807H472.44L514.01 129.181V165.541H526.13V128.741H526.11Z\" fill=\"var(--jp-ui-font-color0)\"/>\n",
       "        <path d=\"M82.35 104.44C84.0187 97.8827 87.8248 92.0678 93.1671 87.9146C98.5094 83.7614 105.083 81.5067 111.85 81.5067C118.617 81.5067 125.191 83.7614 130.533 87.9146C135.875 92.0678 139.681 97.8827 141.35 104.44H163.75C164.476 101.562 165.622 98.8057 167.15 96.2605L127.45 56.5605C121.071 60.3522 113.526 61.6823 106.235 60.3005C98.9443 58.9187 92.4094 54.9203 87.8602 49.0574C83.3109 43.1946 81.0609 35.8714 81.5332 28.4656C82.0056 21.0599 85.1679 14.0819 90.4252 8.8446C95.6824 3.60726 102.672 0.471508 110.08 0.0272655C117.487 -0.416977 124.802 1.86091 130.647 6.4324C136.493 11.0039 140.467 17.5539 141.821 24.8501C143.175 32.1463 141.816 39.6859 138 46.0505L177.69 85.7505C182.31 82.9877 187.58 81.4995 192.962 81.4375C198.345 81.3755 203.648 82.742 208.33 85.3976C213.012 88.0532 216.907 91.9029 219.616 96.5544C222.326 101.206 223.753 106.492 223.753 111.875C223.753 117.258 222.326 122.545 219.616 127.197C216.907 131.848 213.012 135.698 208.33 138.353C203.648 141.009 198.345 142.375 192.962 142.313C187.58 142.251 182.31 140.763 177.69 138L138 177.7C141.808 184.071 143.155 191.614 141.79 198.91C140.424 206.205 136.44 212.75 130.585 217.313C124.731 221.875 117.412 224.141 110.004 223.683C102.596 223.226 95.6103 220.077 90.3621 214.828C85.1139 209.58 81.9647 202.595 81.5072 195.187C81.0497 187.779 83.3154 180.459 87.878 174.605C92.4405 168.751 98.9853 164.766 106.281 163.401C113.576 162.035 121.119 163.383 127.49 167.19L167.19 127.49C165.664 124.941 164.518 122.182 163.79 119.3H141.39C139.721 125.858 135.915 131.673 130.573 135.826C125.231 139.98 118.657 142.234 111.89 142.234C105.123 142.234 98.5494 139.98 93.2071 135.826C87.8648 131.673 84.0587 125.858 82.39 119.3H60C58.1878 126.495 53.8086 132.78 47.6863 136.971C41.5641 141.163 34.1211 142.972 26.7579 142.059C19.3947 141.146 12.6191 137.574 7.70605 132.014C2.79302 126.454 0.0813599 119.29 0.0813599 111.87C0.0813599 104.451 2.79302 97.2871 7.70605 91.7272C12.6191 86.1673 19.3947 82.5947 26.7579 81.6817C34.1211 80.7686 41.5641 82.5781 47.6863 86.7696C53.8086 90.9611 58.1878 97.2456 60 104.44H82.35ZM100.86 204.32C103.407 206.868 106.759 208.453 110.345 208.806C113.93 209.159 117.527 208.258 120.522 206.256C123.517 204.254 125.725 201.276 126.771 197.828C127.816 194.38 127.633 190.677 126.253 187.349C124.874 184.021 122.383 181.274 119.205 179.577C116.027 177.88 112.359 177.337 108.826 178.042C105.293 178.746 102.113 180.654 99.8291 183.44C97.5451 186.226 96.2979 189.718 96.3 193.32C96.2985 195.364 96.7006 197.388 97.4831 199.275C98.2656 201.163 99.4132 202.877 100.86 204.32ZM204.32 122.88C206.868 120.333 208.453 116.981 208.806 113.396C209.159 109.811 208.258 106.214 206.256 103.219C204.254 100.223 201.275 98.0151 197.827 96.97C194.38 95.9249 190.676 96.1077 187.348 97.4873C184.02 98.8669 181.274 101.358 179.577 104.536C177.879 107.714 177.337 111.382 178.041 114.915C178.746 118.448 180.653 121.627 183.439 123.911C186.226 126.195 189.717 127.443 193.32 127.44C195.364 127.443 197.388 127.042 199.275 126.259C201.163 125.476 202.878 124.328 204.32 122.88ZM122.88 19.4205C120.333 16.8729 116.981 15.2876 113.395 14.9347C109.81 14.5817 106.213 15.483 103.218 17.4849C100.223 19.4868 98.0146 22.4654 96.9696 25.9131C95.9245 29.3608 96.1073 33.0642 97.4869 36.3922C98.8665 39.7202 101.358 42.4668 104.535 44.1639C107.713 45.861 111.381 46.4036 114.914 45.6992C118.447 44.9949 121.627 43.0871 123.911 40.301C126.195 37.515 127.442 34.0231 127.44 30.4205C127.44 28.3772 127.038 26.3539 126.255 24.4664C125.473 22.5788 124.326 20.8642 122.88 19.4205ZM19.42 100.86C16.8725 103.408 15.2872 106.76 14.9342 110.345C14.5813 113.93 15.4826 117.527 17.4844 120.522C19.4863 123.518 22.4649 125.726 25.9127 126.771C29.3604 127.816 33.0638 127.633 36.3918 126.254C39.7198 124.874 42.4664 122.383 44.1635 119.205C45.8606 116.027 46.4032 112.359 45.6988 108.826C44.9944 105.293 43.0866 102.114 40.3006 99.8296C37.5145 97.5455 34.0227 96.2983 30.42 96.3005C26.2938 96.3018 22.337 97.9421 19.42 100.86ZM100.86 100.86C98.3125 103.408 96.7272 106.76 96.3742 110.345C96.0213 113.93 96.9226 117.527 98.9244 120.522C100.926 123.518 103.905 125.726 107.353 126.771C110.8 127.816 114.504 127.633 117.832 126.254C121.16 124.874 123.906 122.383 125.604 119.205C127.301 116.027 127.843 112.359 127.139 108.826C126.434 105.293 124.527 102.114 121.741 99.8296C118.955 97.5455 115.463 96.2983 111.86 96.3005C109.817 96.299 107.793 96.701 105.905 97.4835C104.018 98.2661 102.303 99.4136 100.86 100.86Z\" fill=\"#00AEEF\"/>\n",
       "    </g>\n",
       "    <defs>\n",
       "        <clipPath id=\"clip0_4338_178347\">\n",
       "            <rect width=\"566.93\" height=\"223.75\" fill=\"white\"/>\n",
       "        </clipPath>\n",
       "    </defs>\n",
       "  </svg>\n",
       "</div>\n",
       "\n",
       "        <table class=\"jp-RenderedHTMLCommon\" style=\"border-collapse: collapse;color: var(--jp-ui-font-color1);font-size: var(--jp-ui-font-size1);\">\n",
       "    <tr>\n",
       "        <td style=\"text-align: left\"><b>Python version:</b></td>\n",
       "        <td style=\"text-align: left\"><b>3.10.13</b></td>\n",
       "    </tr>\n",
       "    <tr>\n",
       "        <td style=\"text-align: left\"><b>Ray version:</b></td>\n",
       "        <td style=\"text-align: left\"><b>2.9.0</b></td>\n",
       "    </tr>\n",
       "    \n",
       "</table>\n",
       "\n",
       "    </div>\n",
       "</div>\n"
      ],
      "text/plain": [
       "RayContext(dashboard_url='', python_version='3.10.13', ray_version='2.9.0', ray_commit='9be5a16e3ccad0710bba08d0f75e9ff774ae6880', protocol_version=None)"
      ]
     },
     "execution_count": 2,
     "metadata": {},
     "output_type": "execute_result"
    }
   ],
   "source": [
    "ray.init()"
   ]
  },
  {
   "cell_type": "code",
   "execution_count": 3,
   "metadata": {},
   "outputs": [],
   "source": [
    "X_train, X_test, y_train, y_test = train_test_split(X, y, test_size=0.2, random_state=42)"
   ]
  },
  {
   "cell_type": "code",
   "execution_count": 4,
   "metadata": {},
   "outputs": [],
   "source": [
    "search_space = {\n",
    "    \"hidden_layer_sizes\": tune.choice([(30, 128, 5), (30, 256, 5), (30, 68, 5)]),\n",
    "    \"activation\": tune.choice(['tanh', 'relu']),\n",
    "    \"alpha\": tune.loguniform(1e-6, 1e-3),\n",
    "    \"learning_rate_init\": tune.loguniform(1e-5, 1e-2),\n",
    "    \"max_iter\": tune.choice([200, 300, 500]),  # You can adjust this value\n",
    "}"
   ]
  },
  {
   "cell_type": "code",
   "execution_count": 5,
   "metadata": {},
   "outputs": [],
   "source": [
    "def train_func(config):\n",
    "    clf = MLPClassifier(\n",
    "        **config,\n",
    "        verbose=False,\n",
    "        random_state=42,\n",
    "        early_stopping=True,\n",
    "        n_iter_no_change=10\n",
    "    )\n",
    "    clf.fit(X_train, y_train)\n",
    "    train.report({\n",
    "        \"mean_accuracy\": clf.score(X_test, y_test),\n",
    "        \"train_loss\": clf.loss_,\n",
    "    })"
   ]
  },
  {
   "cell_type": "code",
   "execution_count": 6,
   "metadata": {},
   "outputs": [],
   "source": [
    "algo = OptunaSearch()\n",
    "tune_config = tune.TuneConfig(\n",
    "    metric=\"mean_accuracy\",\n",
    "    mode=\"max\",\n",
    "    num_samples=10,\n",
    "    search_alg=algo,    \n",
    ")"
   ]
  },
  {
   "cell_type": "code",
   "execution_count": 7,
   "metadata": {},
   "outputs": [],
   "source": [
    "tuner = tune.Tuner(\n",
    "    train_func,\n",
    "    tune_config=tune_config,\n",
    "    param_space=search_space,\n",
    ")"
   ]
  },
  {
   "cell_type": "code",
   "execution_count": 8,
   "metadata": {},
   "outputs": [
    {
     "data": {
      "text/html": [
       "<div class=\"tuneStatus\">\n",
       "  <div style=\"display: flex;flex-direction: row\">\n",
       "    <div style=\"display: flex;flex-direction: column;\">\n",
       "      <h3>Tune Status</h3>\n",
       "      <table>\n",
       "<tbody>\n",
       "<tr><td>Current time:</td><td>2024-01-18 16:41:19</td></tr>\n",
       "<tr><td>Running for: </td><td>00:02:01.80        </td></tr>\n",
       "<tr><td>Memory:      </td><td>4.8/31.0 GiB       </td></tr>\n",
       "</tbody>\n",
       "</table>\n",
       "    </div>\n",
       "    <div class=\"vDivider\"></div>\n",
       "    <div class=\"systemInfo\">\n",
       "      <h3>System Info</h3>\n",
       "      Using FIFO scheduling algorithm.<br>Logical resource usage: 1.0/8 CPUs, 0/1 GPUs (0.0/1.0 accelerator_type:G)\n",
       "    </div>\n",
       "    \n",
       "  </div>\n",
       "  <div class=\"hDivider\"></div>\n",
       "  <div class=\"trialStatus\">\n",
       "    <h3>Trial Status</h3>\n",
       "    <table>\n",
       "<thead>\n",
       "<tr><th>Trial name         </th><th>status    </th><th>loc              </th><th>activation  </th><th style=\"text-align: right;\">      alpha</th><th>hidden_layer_sizes  </th><th style=\"text-align: right;\">  learning_rate_init</th><th style=\"text-align: right;\">  max_iter</th><th style=\"text-align: right;\">     acc</th><th style=\"text-align: right;\">  iter</th><th style=\"text-align: right;\">  total time (s)</th><th style=\"text-align: right;\">  train_loss</th></tr>\n",
       "</thead>\n",
       "<tbody>\n",
       "<tr><td>train_func_4b6ae59c</td><td>TERMINATED</td><td>172.16.2.55:41610</td><td>tanh        </td><td style=\"text-align: right;\">6.79242e-06</td><td>(30, 128, 5)        </td><td style=\"text-align: right;\">         0.000606919</td><td style=\"text-align: right;\">       500</td><td style=\"text-align: right;\">0.766825</td><td style=\"text-align: right;\">     1</td><td style=\"text-align: right;\">         53.3452</td><td style=\"text-align: right;\">    0.416395</td></tr>\n",
       "<tr><td>train_func_91fe1251</td><td>TERMINATED</td><td>172.16.2.55:41648</td><td>relu        </td><td style=\"text-align: right;\">1.24048e-05</td><td>(30, 256, 5)        </td><td style=\"text-align: right;\">         0.000757552</td><td style=\"text-align: right;\">       500</td><td style=\"text-align: right;\">0.770137</td><td style=\"text-align: right;\">     1</td><td style=\"text-align: right;\">         51.2525</td><td style=\"text-align: right;\">    0.401383</td></tr>\n",
       "<tr><td>train_func_a349805c</td><td>TERMINATED</td><td>172.16.2.55:41687</td><td>relu        </td><td style=\"text-align: right;\">9.84124e-05</td><td>(30, 68, 5)         </td><td style=\"text-align: right;\">         0.00291641 </td><td style=\"text-align: right;\">       300</td><td style=\"text-align: right;\">0.766544</td><td style=\"text-align: right;\">     1</td><td style=\"text-align: right;\">         22.1073</td><td style=\"text-align: right;\">    0.425323</td></tr>\n",
       "<tr><td>train_func_e2fe9a2d</td><td>TERMINATED</td><td>172.16.2.55:41726</td><td>relu        </td><td style=\"text-align: right;\">0.000807778</td><td>(30, 68, 5)         </td><td style=\"text-align: right;\">         0.0055974  </td><td style=\"text-align: right;\">       200</td><td style=\"text-align: right;\">0.768012</td><td style=\"text-align: right;\">     1</td><td style=\"text-align: right;\">         41.3559</td><td style=\"text-align: right;\">    0.441532</td></tr>\n",
       "<tr><td>train_func_f2bdc770</td><td>TERMINATED</td><td>172.16.2.55:41765</td><td>relu        </td><td style=\"text-align: right;\">4.28102e-06</td><td>(30, 128, 5)        </td><td style=\"text-align: right;\">         0.000137822</td><td style=\"text-align: right;\">       300</td><td style=\"text-align: right;\">0.758139</td><td style=\"text-align: right;\">     1</td><td style=\"text-align: right;\">         82.2816</td><td style=\"text-align: right;\">    0.43652 </td></tr>\n",
       "<tr><td>train_func_9eeaaefe</td><td>TERMINATED</td><td>172.16.2.55:41806</td><td>tanh        </td><td style=\"text-align: right;\">0.000124108</td><td>(30, 256, 5)        </td><td style=\"text-align: right;\">         0.000113672</td><td style=\"text-align: right;\">       200</td><td style=\"text-align: right;\">0.76745 </td><td style=\"text-align: right;\">     1</td><td style=\"text-align: right;\">         90.6929</td><td style=\"text-align: right;\">    0.440296</td></tr>\n",
       "<tr><td>train_func_a9b7fcf5</td><td>TERMINATED</td><td>172.16.2.55:41687</td><td>tanh        </td><td style=\"text-align: right;\">5.91681e-06</td><td>(30, 128, 5)        </td><td style=\"text-align: right;\">         0.00151786 </td><td style=\"text-align: right;\">       500</td><td style=\"text-align: right;\">0.763638</td><td style=\"text-align: right;\">     1</td><td style=\"text-align: right;\">         26.6021</td><td style=\"text-align: right;\">    0.439114</td></tr>\n",
       "<tr><td>train_func_0f0a94b5</td><td>TERMINATED</td><td>172.16.2.55:41896</td><td>tanh        </td><td style=\"text-align: right;\">6.42354e-05</td><td>(30, 128, 5)        </td><td style=\"text-align: right;\">         0.00208698 </td><td style=\"text-align: right;\">       500</td><td style=\"text-align: right;\">0.761888</td><td style=\"text-align: right;\">     1</td><td style=\"text-align: right;\">         30.4644</td><td style=\"text-align: right;\">    0.429633</td></tr>\n",
       "<tr><td>train_func_c8a8a972</td><td>TERMINATED</td><td>172.16.2.55:41935</td><td>relu        </td><td style=\"text-align: right;\">5.08562e-05</td><td>(30, 68, 5)         </td><td style=\"text-align: right;\">         0.00275015 </td><td style=\"text-align: right;\">       300</td><td style=\"text-align: right;\">0.766762</td><td style=\"text-align: right;\">     1</td><td style=\"text-align: right;\">         21.1498</td><td style=\"text-align: right;\">    0.423678</td></tr>\n",
       "<tr><td>train_func_54e9f5ac</td><td>TERMINATED</td><td>172.16.2.55:41610</td><td>relu        </td><td style=\"text-align: right;\">2.8784e-06 </td><td>(30, 128, 5)        </td><td style=\"text-align: right;\">         0.00399095 </td><td style=\"text-align: right;\">       500</td><td style=\"text-align: right;\">0.76645 </td><td style=\"text-align: right;\">     1</td><td style=\"text-align: right;\">         23.7457</td><td style=\"text-align: right;\">    0.423774</td></tr>\n",
       "</tbody>\n",
       "</table>\n",
       "  </div>\n",
       "</div>\n",
       "<style>\n",
       ".tuneStatus {\n",
       "  color: var(--jp-ui-font-color1);\n",
       "}\n",
       ".tuneStatus .systemInfo {\n",
       "  display: flex;\n",
       "  flex-direction: column;\n",
       "}\n",
       ".tuneStatus td {\n",
       "  white-space: nowrap;\n",
       "}\n",
       ".tuneStatus .trialStatus {\n",
       "  display: flex;\n",
       "  flex-direction: column;\n",
       "}\n",
       ".tuneStatus h3 {\n",
       "  font-weight: bold;\n",
       "}\n",
       ".tuneStatus .hDivider {\n",
       "  border-bottom-width: var(--jp-border-width);\n",
       "  border-bottom-color: var(--jp-border-color0);\n",
       "  border-bottom-style: solid;\n",
       "}\n",
       ".tuneStatus .vDivider {\n",
       "  border-left-width: var(--jp-border-width);\n",
       "  border-left-color: var(--jp-border-color0);\n",
       "  border-left-style: solid;\n",
       "  margin: 0.5em 1em 0.5em 1em;\n",
       "}\n",
       "</style>\n"
      ],
      "text/plain": [
       "<IPython.core.display.HTML object>"
      ]
     },
     "metadata": {},
     "output_type": "display_data"
    },
    {
     "name": "stdout",
     "output_type": "stream",
     "text": [
      "\u001b[33m(raylet)\u001b[0m Warning: The actor ImplicitFunc is very large (53 MiB). Check that its definition is not implicitly capturing a large array or other object in scope. Tip: use ray.put() to put large objects in the Ray object store.\n"
     ]
    },
    {
     "name": "stderr",
     "output_type": "stream",
     "text": [
      "2024-01-18 16:39:54,139\tINFO tensorboardx.py:275 -- Removed the following hyperparameter values when logging to tensorboard: {'hidden_layer_sizes': (30, 68, 5)}\n",
      "2024-01-18 16:40:16,697\tINFO tensorboardx.py:275 -- Removed the following hyperparameter values when logging to tensorboard: {'hidden_layer_sizes': (30, 128, 5)}\n",
      "2024-01-18 16:40:17,716\tINFO tensorboardx.py:275 -- Removed the following hyperparameter values when logging to tensorboard: {'hidden_layer_sizes': (30, 68, 5)}\n",
      "2024-01-18 16:40:18,688\tINFO tensorboardx.py:275 -- Removed the following hyperparameter values when logging to tensorboard: {'hidden_layer_sizes': (30, 256, 5)}\n",
      "2024-01-18 16:40:20,760\tINFO tensorboardx.py:275 -- Removed the following hyperparameter values when logging to tensorboard: {'hidden_layer_sizes': (30, 128, 5)}\n",
      "2024-01-18 16:40:28,764\tINFO tensorboardx.py:275 -- Removed the following hyperparameter values when logging to tensorboard: {'hidden_layer_sizes': (30, 68, 5)}\n",
      "2024-01-18 16:40:30,935\tINFO tensorboardx.py:275 -- Removed the following hyperparameter values when logging to tensorboard: {'hidden_layer_sizes': (30, 128, 5)}\n",
      "2024-01-18 16:40:40,468\tINFO tensorboardx.py:275 -- Removed the following hyperparameter values when logging to tensorboard: {'hidden_layer_sizes': (30, 128, 5)}\n",
      "2024-01-18 16:41:04,088\tINFO tensorboardx.py:275 -- Removed the following hyperparameter values when logging to tensorboard: {'hidden_layer_sizes': (30, 128, 5)}\n",
      "2024-01-18 16:41:19,739\tINFO tensorboardx.py:275 -- Removed the following hyperparameter values when logging to tensorboard: {'hidden_layer_sizes': (30, 256, 5)}\n",
      "2024-01-18 16:41:19,758\tINFO tune.py:1042 -- Total run time: 123.98 seconds (121.79 seconds for the tuning loop).\n"
     ]
    },
    {
     "data": {
      "text/plain": [
       "ResultGrid<[\n",
       "  Result(\n",
       "    metrics={'mean_accuracy': 0.7668249703180654, 'train_loss': 0.41639528207123205},\n",
       "    path='/home/ayakovyna/ray_results/train_func_2024-01-18_16-39-15/train_func_4b6ae59c_1_activation=tanh,alpha=0.0000,hidden_layer_sizes=30_128_5,learning_rate_init=0.0006,max_iter=500_2024-01-18_16-39-19',\n",
       "    filesystem='local',\n",
       "    checkpoint=None\n",
       "  ),\n",
       "  Result(\n",
       "    metrics={'mean_accuracy': 0.7701368493407487, 'train_loss': 0.40138258857015485},\n",
       "    path='/home/ayakovyna/ray_results/train_func_2024-01-18_16-39-15/train_func_91fe1251_2_activation=relu,alpha=0.0000,hidden_layer_sizes=30_256_5,learning_rate_init=0.0008,max_iter=500_2024-01-18_16-39-24',\n",
       "    filesystem='local',\n",
       "    checkpoint=None\n",
       "  ),\n",
       "  Result(\n",
       "    metrics={'mean_accuracy': 0.7665437730425545, 'train_loss': 0.4253233497433436},\n",
       "    path='/home/ayakovyna/ray_results/train_func_2024-01-18_16-39-15/train_func_a349805c_3_activation=relu,alpha=0.0001,hidden_layer_sizes=30_68_5,learning_rate_init=0.0029,max_iter=300_2024-01-18_16-39-28',\n",
       "    filesystem='local',\n",
       "    checkpoint=None\n",
       "  ),\n",
       "  Result(\n",
       "    metrics={'mean_accuracy': 0.7680122477035556, 'train_loss': 0.4415324851638311},\n",
       "    path='/home/ayakovyna/ray_results/train_func_2024-01-18_16-39-15/train_func_e2fe9a2d_4_activation=relu,alpha=0.0008,hidden_layer_sizes=30_68_5,learning_rate_init=0.0056,max_iter=200_2024-01-18_16-39-33',\n",
       "    filesystem='local',\n",
       "    checkpoint=None\n",
       "  ),\n",
       "  Result(\n",
       "    metrics={'mean_accuracy': 0.7581390989189527, 'train_loss': 0.4365202737597669},\n",
       "    path='/home/ayakovyna/ray_results/train_func_2024-01-18_16-39-15/train_func_f2bdc770_5_activation=relu,alpha=0.0000,hidden_layer_sizes=30_128_5,learning_rate_init=0.0001,max_iter=300_2024-01-18_16-39-38',\n",
       "    filesystem='local',\n",
       "    checkpoint=None\n",
       "  ),\n",
       "  Result(\n",
       "    metrics={'mean_accuracy': 0.7674498531525339, 'train_loss': 0.4402955743969121},\n",
       "    path='/home/ayakovyna/ray_results/train_func_2024-01-18_16-39-15/train_func_9eeaaefe_6_activation=tanh,alpha=0.0001,hidden_layer_sizes=30_256_5,learning_rate_init=0.0001,max_iter=200_2024-01-18_16-39-43',\n",
       "    filesystem='local',\n",
       "    checkpoint=None\n",
       "  ),\n",
       "  Result(\n",
       "    metrics={'mean_accuracy': 0.7636380678622758, 'train_loss': 0.43911397636490096},\n",
       "    path='/home/ayakovyna/ray_results/train_func_2024-01-18_16-39-15/train_func_a9b7fcf5_7_activation=tanh,alpha=0.0000,hidden_layer_sizes=30_128_5,learning_rate_init=0.0015,max_iter=500_2024-01-18_16-39-50',\n",
       "    filesystem='local',\n",
       "    checkpoint=None\n",
       "  ),\n",
       "  Result(\n",
       "    metrics={'mean_accuracy': 0.761888395925764, 'train_loss': 0.4296334033967649},\n",
       "    path='/home/ayakovyna/ray_results/train_func_2024-01-18_16-39-15/train_func_0f0a94b5_8_activation=tanh,alpha=0.0001,hidden_layer_sizes=30_128_5,learning_rate_init=0.0021,max_iter=500_2024-01-18_16-39-56',\n",
       "    filesystem='local',\n",
       "    checkpoint=None\n",
       "  ),\n",
       "  Result(\n",
       "    metrics={'mean_accuracy': 0.7667624820346185, 'train_loss': 0.42367849960061843},\n",
       "    path='/home/ayakovyna/ray_results/train_func_2024-01-18_16-39-15/train_func_c8a8a972_9_activation=relu,alpha=0.0001,hidden_layer_sizes=30_68_5,learning_rate_init=0.0028,max_iter=300_2024-01-18_16-40-02',\n",
       "    filesystem='local',\n",
       "    checkpoint=None\n",
       "  ),\n",
       "  Result(\n",
       "    metrics={'mean_accuracy': 0.7664500406173842, 'train_loss': 0.4237738735785938},\n",
       "    path='/home/ayakovyna/ray_results/train_func_2024-01-18_16-39-15/train_func_54e9f5ac_10_activation=relu,alpha=0.0000,hidden_layer_sizes=30_128_5,learning_rate_init=0.0040,max_iter=500_2024-01-18_16-40-09',\n",
       "    filesystem='local',\n",
       "    checkpoint=None\n",
       "  )\n",
       "]>"
      ]
     },
     "execution_count": 8,
     "metadata": {},
     "output_type": "execute_result"
    }
   ],
   "source": [
    "tuner.fit()"
   ]
  }
 ],
 "metadata": {
  "kernelspec": {
   "display_name": "bogdan",
   "language": "python",
   "name": "python3"
  },
  "language_info": {
   "codemirror_mode": {
    "name": "ipython",
    "version": 3
   },
   "file_extension": ".py",
   "mimetype": "text/x-python",
   "name": "python",
   "nbconvert_exporter": "python",
   "pygments_lexer": "ipython3",
   "version": "3.10.13"
  }
 },
 "nbformat": 4,
 "nbformat_minor": 2
}
